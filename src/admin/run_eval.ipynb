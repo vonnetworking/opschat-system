{
 "cells": [
  {
   "cell_type": "markdown",
   "metadata": {},
   "source": [
    "# Running Evaluations\n",
    "\n",
    "This notebook illustrates the use of the evaluation framework.\n",
    "\n",
    "## Setup\n",
    "\n",
    "Start the evaluation target, which is the agent API server:\n",
    "```\n",
    "./opschat.sh run\n",
    "```\n",
    "Find the FastAPI host info in the output:\n",
    "```\n",
    "FastAPI: http://10.128.135.97:<PORT-NUMBER> or http://localhost:<PORT-NUMBER>\n",
    "```\n",
    "\n",
    "Copy the API host information to your `.env` file:\n",
    "```\n",
    "API_BASE=http://localhost:<PORT-NUMBER>\n",
    "```\n",
    "\n",
    "## Test Configuration\n",
    "\n",
    "Settings for the tests are saved in YAML files in the following directory: `/eval-config`\n",
    "\n",
    "## Executing Evaluations\n",
    "### Manual script execution\n",
    "The script requires the name of the configuration file to load, and will look in the `/eval-config` directory.\n"
   ]
  },
  {
   "cell_type": "code",
   "execution_count": null,
   "metadata": {},
   "outputs": [],
   "source": [
    "!python3 ../evals/evaluate_agent.py golden-questions.yaml"
   ]
  },
  {
   "cell_type": "markdown",
   "metadata": {},
   "source": [
    "### Python code execution in notebook\n",
    "\n",
    "This is the recommended method for developers to run the process.\n",
    "\n",
    "#### Setup - run once"
   ]
  },
  {
   "cell_type": "code",
   "execution_count": null,
   "metadata": {},
   "outputs": [],
   "source": [
    "import json\n",
    "import nest_asyncio\n",
    "nest_asyncio.apply()\n",
    "\n",
    "import os, sys\n",
    "lib_path = os.path.abspath(os.path.join(os.path.curdir, \"..\"))\n",
    "if lib_path not in sys.path:\n",
    "    sys.path.insert(0, lib_path)\n",
    "\n",
    "from evals.evaluate_agent import run_llm_test"
   ]
  },
  {
   "cell_type": "markdown",
   "metadata": {},
   "source": [
    "#### Running an eval configuration"
   ]
  },
  {
   "cell_type": "code",
   "execution_count": null,
   "metadata": {},
   "outputs": [],
   "source": [
    "result = run_llm_test(\"golden-questions.yaml\")\n",
    "print(\">>> DONE:\", json.dumps(result, indent=2))"
   ]
  },
  {
   "cell_type": "markdown",
   "metadata": {},
   "source": [
    "## Evaluation Output\n",
    "\n",
    "The process outputs the LLM responses and the corresponding metric scores to files on disk in json format. They can be found here:\n",
    "- `/eval-data/questions`\n",
    "- `/eval-data/responses`\n",
    "- `/eval-data/scores`\n",
    "- `/eval-data/summary`"
   ]
  }
 ],
 "metadata": {
  "kernelspec": {
   "display_name": "Python 3",
   "language": "python",
   "name": "python3"
  },
  "language_info": {
   "codemirror_mode": {
    "name": "ipython",
    "version": 3
   },
   "file_extension": ".py",
   "mimetype": "text/x-python",
   "name": "python",
   "nbconvert_exporter": "python",
   "pygments_lexer": "ipython3",
   "version": "3.13.1"
  }
 },
 "nbformat": 4,
 "nbformat_minor": 2
}
